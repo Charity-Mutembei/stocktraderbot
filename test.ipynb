{
 "cells": [
  {
   "cell_type": "code",
   "execution_count": 1,
   "metadata": {},
   "outputs": [
    {
     "name": "stderr",
     "output_type": "stream",
     "text": [
      "/home/cherry/Desktop/ALX-Folder/portfolio-project/lumi-stock-bot/lumistockbot/lib/python3.11/site-packages/tqdm/auto.py:21: TqdmWarning: IProgress not found. Please update jupyter and ipywidgets. See https://ipywidgets.readthedocs.io/en/stable/user_install.html\n",
      "  from .autonotebook import tqdm as notebook_tqdm\n"
     ]
    }
   ],
   "source": [
    "from lumibot.brokers import Alpaca\n",
    "from lumibot.backtesting import YahooDataBacktesting\n",
    "from lumibot.strategies import Strategy\n",
    "from lumibot.traders import Trader\n",
    "from datetime import datetime, timedelta\n",
    "from dotenv import load_dotenv\n",
    "import os\n",
    "from alpaca_trade_api import REST\n",
    "from utils import estimate_sentiment"
   ]
  },
  {
   "cell_type": "code",
   "execution_count": 2,
   "metadata": {},
   "outputs": [],
   "source": [
    "#get the APIKEYS\n",
    "load_dotenv()\n",
    "\n",
    "API_KEY=os.getenv(\"Key\")\n",
    "API_SECRET=os.getenv(\"Secret\")\n",
    "BASE_URL=os.getenv(\"Endpoint\")\n"
   ]
  },
  {
   "cell_type": "code",
   "execution_count": 3,
   "metadata": {},
   "outputs": [],
   "source": [
    "AlpacaConfig = {\n",
    "    \"API_KEY\": API_KEY,\n",
    "    \"API_SECRET\": API_SECRET,\n",
    "    \"PAPER\": True\n",
    "}"
   ]
  },
  {
   "cell_type": "code",
   "execution_count": 4,
   "metadata": {},
   "outputs": [
    {
     "name": "stderr",
     "output_type": "stream",
     "text": [
      "2024-07-15 22:04:34 | asyncio | INFO | [unknown] Waiting for the socket stream connection to be established, \n",
      "                method _stream_established must be called\n",
      "2024-07-15 22:04:34 | alpaca.trading.stream | INFO | started trading stream\n",
      "2024-07-15 22:04:34 | alpaca.trading.stream | INFO | starting trading websocket connection\n"
     ]
    },
    {
     "name": "stderr",
     "output_type": "stream",
     "text": [
      "2024-07-15 22:04:35 | alpaca.trading.stream | INFO | connected to: BaseURL.TRADING_STREAM_PAPER\n"
     ]
    }
   ],
   "source": [
    "broker=Alpaca(AlpacaConfig)"
   ]
  },
  {
   "cell_type": "code",
   "execution_count": 5,
   "metadata": {},
   "outputs": [],
   "source": [
    "class MLTrader(Strategy):\n",
    "    def initialize(self, symbol=\"SPY\", cash_at_risk=.5):\n",
    "        self.symbol=symbol\n",
    "        #the we determine how often we wanna make a trader by sleeptime\n",
    "        self.sleeptime=\"24H\"\n",
    "        #then set where to start with the trader in every 24 hours\n",
    "        self.last_trade = None\n",
    "        self.cash_at_risk=cash_at_risk\n",
    "        self.api=REST(base_url=BASE_URL, key_id=API_KEY, secret_key=API_SECRET)\n",
    "    \n",
    "\n",
    "    #position sizing and limiting\n",
    "    def position_size(self):\n",
    "        #making sure that we have good use of money when trading\n",
    "        cash_left_in_account = self.get_cash()\n",
    "        last_price = self.get_last_price(self.symbol)\n",
    "        quantity = round(cash_left_in_account*self.cash_at_risk/last_price, 0)\n",
    "        return cash_left_in_account, last_price, quantity\n",
    "    \n",
    "\n",
    "    #get dates function\n",
    "    def get_dates(self):\n",
    "        today=self.get_datetime()\n",
    "        three_days_ago = today - timedelta(days=3)\n",
    "        return today.strftime('%Y-%m-%d'), three_days_ago.strftime('%Y-%m-%d')\n",
    "    \n",
    "\n",
    "    #getting the news\n",
    "    def get_news_sentiment(self):\n",
    "       today, three_days_ago = self.get_dates()\n",
    "       news=self.api.get_news(symbol=\"SPY\", start=three_days_ago, end=today)\n",
    "       news = [ev.__dict__[\"_raw\"][\"headline\"] for ev in news]\n",
    "\n",
    "       probability, sentiment = estimate_sentiment(news)\n",
    "\n",
    "       return probability, sentiment\n",
    "\n",
    "    def on_trading_iteration(self):\n",
    "        #get the returns in position_size function\n",
    "        cash_left_in_account, last_price, quantity = self.position_size()\n",
    "\n",
    "        if cash_left_in_account > last_price:\n",
    "            probability =self.get_news_sentiment()\n",
    "            sentiment = self.get_news_sentiment()\n",
    "            # print(probability, sentiment)\n",
    "            if probability [0] > .999 and sentiment == \"positive\":\n",
    "                if self.last_trade == \"sell\":\n",
    "                    self.sell_all()\n",
    "\n",
    "                new_order = self.create_order(\n",
    "                    self.symbol,\n",
    "                    quantity,\n",
    "                    \"buy\",\n",
    "                    type=\"bracket\",\n",
    "                    take_profit_price=last_price*1.20,\n",
    "                    stop_loss_price=last_price*0.95,\n",
    "                )\n",
    "                self.submit_order(new_order)\n",
    "                self.last_trade=\"buy\"\n",
    "            if probability [0] > .999 and sentiment == \"negative\":\n",
    "                if self.last_trade == \"buy\":\n",
    "                    self.sell_all()\n",
    "\n",
    "                new_order = self.create_order(\n",
    "                    self.symbol,\n",
    "                    quantity,\n",
    "                    \"sell \",\n",
    "                    type=\"bracket\",\n",
    "                    take_profit_price=last_price*.8,\n",
    "                    stop_loss_price=last_price*1.05,\n",
    "                )\n",
    "                self.submit_order(new_order)\n",
    "                self.last_trade=\"sell\"\n"
   ]
  },
  {
   "cell_type": "code",
   "execution_count": 6,
   "metadata": {},
   "outputs": [],
   "source": [
    "#lets set up the trading instance with our strategy variable\n",
    "strategy=MLTrader(\n",
    "    name=\"mlstrat\",\n",
    "    broker=broker,\n",
    "    parameters={\n",
    "        \"symbol\": \"SPY\",\n",
    "        \"cash_at_risk\": .5\n",
    "    }\n",
    ")"
   ]
  },
  {
   "cell_type": "code",
   "execution_count": 9,
   "metadata": {},
   "outputs": [
    {
     "name": "stdout",
     "output_type": "stream",
     "text": [
      "2024-07-15 21:56:24.294608\n"
     ]
    }
   ],
   "source": [
    "backtesting_end_date=datetime.today()\n",
    "print(backtesting_end_date)"
   ]
  },
  {
   "cell_type": "code",
   "execution_count": 7,
   "metadata": {},
   "outputs": [
    {
     "name": "stderr",
     "output_type": "stream",
     "text": [
      "2024-07-15 22:04:55 | backtest_stats | INFO | Starting backtest...\n",
      "2024-07-15 22:04:55 | root | INFO | Backtesting starting...\n"
     ]
    },
    {
     "name": "stdout",
     "output_type": "stream",
     "text": [
      "Starting backtest for MLTrader...\n",
      "Progress |\u001b[32m\u001b[0m|   3.71%  [Elapsed: 0:01:18 ETA: 0:34:02] Portfolio Val: 100,000.00"
     ]
    }
   ],
   "source": [
    "# set up the backtesting here for our strategy\n",
    "#step 1: get the start_date\n",
    "backtesting_start_date=datetime(2023, 12, 15)\n",
    "backtesting_end_date=datetime(2023,12,31)\n",
    "\"\"\"\n",
    "step 3: set up the backtesting with the data source\n",
    "the data source here is YahooBackTesting class but if\n",
    "you have your own data, you would typically use panda backtesting\n",
    "\n",
    "The backtesting_params may include the budget and other stuff too\n",
    "check here ```https://pypi.org/project/lumibot/1.3.2/```\n",
    "\"\"\"\n",
    "strategy.backtest(\n",
    "    YahooDataBacktesting,\n",
    "    backtesting_start_date,\n",
    "    backtesting_end_date,\n",
    "    parameters={\n",
    "        \"symbol\": \"SPY\",\n",
    "        \"cash_at_risk\": .5\n",
    "    }\n",
    ")\n"
   ]
  }
 ],
 "metadata": {
  "kernelspec": {
   "display_name": "lumistockbot",
   "language": "python",
   "name": "python3"
  },
  "language_info": {
   "codemirror_mode": {
    "name": "ipython",
    "version": 3
   },
   "file_extension": ".py",
   "mimetype": "text/x-python",
   "name": "python",
   "nbconvert_exporter": "python",
   "pygments_lexer": "ipython3",
   "version": "3.11.7"
  }
 },
 "nbformat": 4,
 "nbformat_minor": 2
}
