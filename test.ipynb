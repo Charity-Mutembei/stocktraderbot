{
 "cells": [
  {
   "cell_type": "code",
   "execution_count": 7,
   "metadata": {},
   "outputs": [],
   "source": [
    "from lumibot.brokers import Alpaca\n",
    "from lumibot.backtesting import YahooDataBacktesting\n",
    "from lumibot.strategies import Strategy\n",
    "from lumibot.traders import Trader\n",
    "from datetime import datetime\n",
    "from dotenv import load_dotenv\n",
    "import os"
   ]
  },
  {
   "cell_type": "code",
   "execution_count": 4,
   "metadata": {},
   "outputs": [],
   "source": [
    "#get the APIKEYS\n",
    "load_dotenv()\n",
    "\n",
    "API_KEY=os.getenv(\"Key\")\n",
    "API_SECRET=os.getenv(\"Secret\")\n",
    "BASE_URL=os.getenv(\"Endpoint\")\n"
   ]
  },
  {
   "cell_type": "code",
   "execution_count": 6,
   "metadata": {},
   "outputs": [],
   "source": [
    "AlpacaConfig = {\n",
    "    \"API_KEY\": API_KEY,\n",
    "    \"API_SECRET\": API_SECRET,\n",
    "    \"PAPER\": True\n",
    "}"
   ]
  },
  {
   "cell_type": "code",
   "execution_count": 8,
   "metadata": {},
   "outputs": [
    {
     "name": "stderr",
     "output_type": "stream",
     "text": [
      "2024-07-14 01:03:32 | asyncio | INFO | [unknown] Waiting for the socket stream connection to be established, \n",
      "                method _stream_established must be called\n",
      "2024-07-14 01:03:32 | alpaca.trading.stream | INFO | started trading stream\n",
      "2024-07-14 01:03:32 | alpaca.trading.stream | INFO | starting trading websocket connection\n"
     ]
    },
    {
     "name": "stderr",
     "output_type": "stream",
     "text": [
      "2024-07-14 01:03:33 | alpaca.trading.stream | INFO | connected to: BaseURL.TRADING_STREAM_PAPER\n"
     ]
    }
   ],
   "source": [
    "broker=Alpaca(AlpacaConfig)"
   ]
  },
  {
   "cell_type": "code",
   "execution_count": 9,
   "metadata": {},
   "outputs": [],
   "source": [
    "class MLTrader(Strategy):\n",
    "    def initialize(self, symbol=\"SPY\", cash_at_risk=.5):\n",
    "        self.symbol=symbol\n",
    "        #the we determine how often we wanna make a trader by sleeptime\n",
    "        self.sleeptime=\"24H\"\n",
    "        #then set where to start with the trader in every 24 hours\n",
    "        self.last_trade = None\n",
    "        self.cash_at_risk=cash_at_risk\n",
    "    \n",
    "\n",
    "    #position sizing and limiting\n",
    "    def position_size(self):\n",
    "        #making sure that we have good use of money when trading\n",
    "        cash_left_in_account = self.get_cash()\n",
    "        last_price = self.get_last_price(symbol=\"SPY\")\n",
    "        quantity = round(cash_left_in_account*self.cash_at_risk/last_price, 0)\n",
    "        return cash_left_in_account, last_price, quantity\n",
    "        \n",
    "\n",
    "    def on_trading_iteration(self):\n",
    "        #get the returns in position_size function\n",
    "        cash_left_in_account, last_price, quantity = self.position_size()\n",
    "\n",
    "        if cash_left_in_account > last_price:\n",
    "            if self.last_trade == None:\n",
    "                new_order = self.create_order(\n",
    "                    self.symbol,\n",
    "                    quantity,\n",
    "                    \"buy\",\n",
    "                    type=\"market\"\n",
    "                )\n",
    "                self.submit_order(new_order)\n",
    "                self.last_trade=\"buy\"\n"
   ]
  },
  {
   "cell_type": "code",
   "execution_count": 12,
   "metadata": {},
   "outputs": [],
   "source": [
    "#lets set up the trading instance with our strategy variable\n",
    "strategy=MLTrader(\n",
    "    name=\"mlstrat\",\n",
    "    broker=broker,\n",
    "    parameters={\n",
    "        \"symbol\": \"SPY\",\n",
    "        \"cash_at_risk\": .5\n",
    "    }\n",
    ")"
   ]
  },
  {
   "cell_type": "code",
   "execution_count": null,
   "metadata": {},
   "outputs": [],
   "source": [
    "# set up the backtesting here for our strategy\n",
    "#step 1: get the start_date\n",
    "backtesting_start_date=datetime(2023, 12, 15)\n",
    "backtesting_end_date=datetime(2023, 12, 31)\n",
    "\"\"\"\n",
    "step 3: set up the backtesting with the data source\n",
    "the data source here is YahooBackTesting class but if\n",
    "you have your own data, you would typically use panda backtesting\n",
    "\n",
    "The backtesting_params may include the budget and other stuff too\n",
    "check here ```https://pypi.org/project/lumibot/1.3.2/```\n",
    "\"\"\"\n",
    "strategy.backtest(\n",
    "    YahooDataBacktesting,\n",
    "    backtesting_start_date,\n",
    "    backtesting_end_date,\n",
    "    parameters={\n",
    "        \"symbol\": \"SPY\",\n",
    "        \"cash_at_risk\": .5\n",
    "    }\n",
    ")\n"
   ]
  }
 ],
 "metadata": {
  "kernelspec": {
   "display_name": "lumistockbot",
   "language": "python",
   "name": "python3"
  },
  "language_info": {
   "codemirror_mode": {
    "name": "ipython",
    "version": 3
   },
   "file_extension": ".py",
   "mimetype": "text/x-python",
   "name": "python",
   "nbconvert_exporter": "python",
   "pygments_lexer": "ipython3",
   "version": "3.11.7"
  }
 },
 "nbformat": 4,
 "nbformat_minor": 2
}
